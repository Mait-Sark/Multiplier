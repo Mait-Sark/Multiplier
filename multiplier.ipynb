{
 "cells": [
  {
   "cell_type": "code",
   "execution_count": 2,
   "id": "c05cea99-7024-4dec-8e01-ce23baffe8bf",
   "metadata": {},
   "outputs": [],
   "source": [
    "import numpy as np\n",
    "\n",
    "# Importing standard Qiskit libraries\n",
    "from qiskit import QuantumCircuit, transpile, Aer, IBMQ\n",
    "from qiskit.tools.jupyter import *\n",
    "from qiskit.visualization import *\n",
    "from qiskit.providers.aer import QasmSimulator\n",
    "\n",
    "# Loading your IBM Quantum account(s)\n",
    "provider = IBMQ.load_account()"
   ]
  },
  {
   "cell_type": "code",
   "execution_count": 3,
   "id": "51d5585b-e0f1-4b40-9835-a5eef2495589",
   "metadata": {},
   "outputs": [
    {
     "name": "stdout",
     "output_type": "stream",
     "text": [
      "Enter the multiplicand.1100\n",
      "Enter the multiplier.101\n"
     ]
    },
    {
     "name": "stderr",
     "output_type": "stream",
     "text": [
      "C:\\Users\\Maitreyee Sarkar\\AppData\\Local\\Temp\\ipykernel_18184\\1670186542.py:22: DeprecationWarning: The QuantumCircuit.cu1 method is deprecated as of 0.16.0. It will be removed no earlier than 3 months after the release date. You should use the QuantumCircuit.cp method instead, which acts identically.\n",
      "  qc.cu1(pie / float(2**(i + 1)), reg[n - (i + 1)], reg[n])\n",
      "C:\\Users\\Maitreyee Sarkar\\AppData\\Local\\Temp\\ipykernel_18184\\1670186542.py:37: DeprecationWarning: The QuantumCircuit.cu1 method is deprecated as of 0.16.0. It will be removed no earlier than 3 months after the release date. You should use the QuantumCircuit.cp method instead, which acts identically.\n",
      "  qc.cu1(factor*pie / float(2**(i)), reg_b[n - i], reg_a[n])\n",
      "C:\\Users\\Maitreyee Sarkar\\AppData\\Local\\Temp\\ipykernel_18184\\1670186542.py:48: DeprecationWarning: The QuantumCircuit.cu1 method is deprecated as of 0.16.0. It will be removed no earlier than 3 months after the release date. You should use the QuantumCircuit.cp method instead, which acts identically.\n",
      "  qc.cu1(-1 * pie / float(2**(n - i)), reg[i], reg[n])\n"
     ]
    },
    {
     "name": "stdout",
     "output_type": "stream",
     "text": [
      "{'0111100': 100}\n"
     ]
    }
   ],
   "source": [
    "# -*- coding: utf-8 -*-\n",
    "\n",
    "\"\"\"\n",
    "multiply.py: Multiply two numbers using repeated fourier \n",
    "               transform based addition.\n",
    "\"\"\"\n",
    "\n",
    "from qiskit import QuantumRegister, QuantumCircuit, ClassicalRegister\n",
    "from qiskit import Aer, execute\n",
    "from math import pi\n",
    "\n",
    "def createInputState(qc, reg, n, pie):\n",
    "    \"\"\"\n",
    "    Computes the quantum Fourier transform of reg, one qubit at\n",
    "    a time.\n",
    "    Apply one Hadamard gate to the nth qubit of the quantum register reg, and \n",
    "    then apply repeated phase rotations with parameters being pi divided by \n",
    "    increasing powers of two.\n",
    "    \"\"\"\n",
    "    qc.h(reg[n])\n",
    "    for i in range(0, n):\n",
    "        qc.cu1(pie / float(2**(i + 1)), reg[n - (i + 1)], reg[n])\n",
    "\n",
    "\n",
    "def evolveQFTState(qc, reg_a, reg_b, n, pie, factor):\n",
    "    \"\"\"  \n",
    "    Evolves the state |F(ψ(reg_a))> to |F(ψ(reg_a+reg_b))> using the quantum \n",
    "    Fourier transform conditioned on the qubits of the reg_b.\n",
    "    Apply repeated phase rotations with parameters being pi divided by \n",
    "    increasing powers of two.\n",
    "    \"\"\"\n",
    "    l = len(reg_b)\n",
    "    for i in range(0, n + 1):\n",
    "        if (n - i) > l - 1:\n",
    "            pass\n",
    "        else:\n",
    "            qc.cu1(factor*pie / float(2**(i)), reg_b[n - i], reg_a[n])\n",
    "\n",
    "\n",
    "def inverseQFT(qc, reg, n, pie):\n",
    "    \"\"\"\n",
    "    Performs the inverse quantum Fourier transform on a register reg.\n",
    "    Apply repeated phase rotations with parameters being pi divided by \n",
    "    decreasing powers of two, and then apply a Hadamard gate to the nth qubit\n",
    "    of the register reg.\n",
    "    \"\"\"\n",
    "    for i in range(0, n):\n",
    "        qc.cu1(-1 * pie / float(2**(n - i)), reg[i], reg[n])\n",
    "    qc.h(reg[n])\n",
    "\n",
    "\n",
    "def add(reg_a, reg_b, circ, factor):\n",
    "    \"\"\"\n",
    "    Add two quantum registers reg_a and reg_b, and store the result in \n",
    "    reg_a.\n",
    "    \"\"\"\n",
    "    pie = pi\n",
    "    n = len(reg_a) - 1\n",
    "\n",
    "    # Compute the Fourier transform of register a\n",
    "    for i in range(0, n + 1):\n",
    "        createInputState(circ, reg_a, n - i, pie)\n",
    "    # Add the two numbers by evolving the Fourier transform F(ψ(reg_a))>\n",
    "    # to |F(ψ(reg_a+reg_b))>\n",
    "    for i in range(0, n + 1):\n",
    "        evolveQFTState(circ, reg_a, reg_b, n - i, pie, factor)\n",
    "    # Compute the inverse Fourier transform of register a\n",
    "    for i in range(0, n + 1):\n",
    "        inverseQFT(circ, reg_a, i, pie)\n",
    "\n",
    "\n",
    "# Take two numbers as user input in binary form\n",
    "multiplicand_in = input(\"Enter the multiplicand.\")\n",
    "l1 = len(multiplicand_in)\n",
    "multiplier_in = input(\"Enter the multiplier.\")\n",
    "l2 = len(multiplier_in)\n",
    "# Make sure multiplicand_in holds the larger number\n",
    "if l2 > l1:\n",
    "    multiplier_in, multiplicand_in = multiplicand_in, multiplier_in\n",
    "    l2, l1 = l1, l2\n",
    "\n",
    "multiplicand = QuantumRegister(l1)\n",
    "multiplier = QuantumRegister(l2)\n",
    "accumulator = QuantumRegister(l1 + l2)\n",
    "cl = ClassicalRegister(l1 + l2)\n",
    "d = QuantumRegister(1)\n",
    "\n",
    "circ = QuantumCircuit(accumulator, multiplier, multiplicand,\n",
    "    d, cl, name=\"qc\")\n",
    "\n",
    "circ.x(d)\n",
    "# Store bit strings in quantum registers\n",
    "for i in range(l1):\n",
    "    if multiplicand_in[i] == '1':\n",
    "        circ.x(multiplicand[l1 - i - 1])\n",
    "\n",
    "for i in range(l2):\n",
    "    if multiplier_in[i] == '1':\n",
    "        circ.x(multiplier[l2 - i - 1])\n",
    "\n",
    "multiplier_str = '1'\n",
    "# Perform repeated addition until the multiplier\n",
    "# is zero\n",
    "while(int(multiplier_str) != 0):\n",
    "    add(accumulator, multiplicand, circ, 1)\n",
    "    add(multiplier, d, circ, -1)\n",
    "    for i in range(len(multiplier)):\n",
    "        circ.measure(multiplier[i], cl[i])\n",
    "    result = execute(circ, backend=Aer.get_backend('qasm_simulator'),\n",
    "                    shots=2).result().get_counts(circ.name)\n",
    "    multiplier_str = list(result.keys())[0]\n",
    "\n",
    "circ.measure(accumulator, cl)\n",
    "result = execute(circ, backend=Aer.get_backend('qasm_simulator'),\n",
    "            shots=100).result().get_counts(circ.name)\n",
    "\n",
    "print(result)"
   ]
  },
  {
   "cell_type": "code",
   "execution_count": null,
   "id": "32ddc965-94a2-4623-8a64-6a579d3fea47",
   "metadata": {},
   "outputs": [],
   "source": []
  }
 ],
 "metadata": {
  "kernelspec": {
   "display_name": "Python 3 (ipykernel)",
   "language": "python",
   "name": "python3"
  },
  "language_info": {
   "codemirror_mode": {
    "name": "ipython",
    "version": 3
   },
   "file_extension": ".py",
   "mimetype": "text/x-python",
   "name": "python",
   "nbconvert_exporter": "python",
   "pygments_lexer": "ipython3",
   "version": "3.9.12"
  },
  "widgets": {
   "application/vnd.jupyter.widget-state+json": {
    "state": {
     "01572d28592347d08bf1554d4ff8321a": {
      "model_module": "@jupyter-widgets/base",
      "model_module_version": "1.2.0",
      "model_name": "LayoutModel",
      "state": {
       "grid_area": "right",
       "padding": "0px 0px 0px 0px",
       "width": "70px"
      }
     },
     "0879b72cfa23424c88daf437104d9421": {
      "model_module": "@jupyter-widgets/controls",
      "model_module_version": "1.5.0",
      "model_name": "ButtonStyleModel",
      "state": {}
     },
     "0b28f1df3034401eb27223a37034c34f": {
      "model_module": "@jupyter-widgets/controls",
      "model_module_version": "1.5.0",
      "model_name": "DescriptionStyleModel",
      "state": {
       "description_width": ""
      }
     },
     "127af95ac637492cac4923160a5cdb7c": {
      "model_module": "@jupyter-widgets/controls",
      "model_module_version": "1.5.0",
      "model_name": "HTMLModel",
      "state": {
       "layout": "IPY_MODEL_7994f5997ca047d884aa9269b6a189de",
       "style": "IPY_MODEL_0b28f1df3034401eb27223a37034c34f",
       "value": "<h5>Job ID</h5>"
      }
     },
     "140d4c47f65749a4a7f945f857248aa2": {
      "model_module": "@jupyter-widgets/controls",
      "model_module_version": "1.5.0",
      "model_name": "DescriptionStyleModel",
      "state": {
       "description_width": ""
      }
     },
     "16d2c07ab1d843f6837c582a198812d5": {
      "model_module": "@jupyter-widgets/base",
      "model_module_version": "1.2.0",
      "model_name": "LayoutModel",
      "state": {
       "width": "70px"
      }
     },
     "172272f1613e4be89d7ef3cfd0c42752": {
      "model_module": "@jupyter-widgets/controls",
      "model_module_version": "1.5.0",
      "model_name": "ButtonModel",
      "state": {
       "button_style": "primary",
       "description": "Clear",
       "layout": "IPY_MODEL_01572d28592347d08bf1554d4ff8321a",
       "style": "IPY_MODEL_0879b72cfa23424c88daf437104d9421"
      }
     },
     "27d9560c382f4b88944b2cc0c146fc53": {
      "model_module": "@jupyter-widgets/base",
      "model_module_version": "1.2.0",
      "model_name": "LayoutModel",
      "state": {}
     },
     "2ba6bd571bd448118e94b712bfa37931": {
      "model_module": "@jupyter-widgets/controls",
      "model_module_version": "1.5.0",
      "model_name": "DescriptionStyleModel",
      "state": {
       "description_width": ""
      }
     },
     "3eb3e2f698ff484782631524685afe51": {
      "model_module": "@jupyter-widgets/controls",
      "model_module_version": "1.5.0",
      "model_name": "HTMLModel",
      "state": {
       "layout": "IPY_MODEL_16d2c07ab1d843f6837c582a198812d5",
       "style": "IPY_MODEL_80cfc8260de8474294fedb75e7e9eca7",
       "value": "<h5>Queue</h5>"
      }
     },
     "498c379c37214440a2512eb4202b36e2": {
      "model_module": "@jupyter-widgets/base",
      "model_module_version": "1.2.0",
      "model_name": "LayoutModel",
      "state": {
       "grid_template_areas": "\n                                       \". . . . right \"\n                                        ",
       "grid_template_columns": "20% 20% 20% 20% 20%",
       "width": "100%"
      }
     },
     "532decc398d44426a8304acba7409061": {
      "model_module": "@jupyter-widgets/controls",
      "model_module_version": "1.5.0",
      "model_name": "HTMLModel",
      "state": {
       "layout": "IPY_MODEL_df001de64d7c4266b322db85e51e1268",
       "style": "IPY_MODEL_c15a778c9e064390810d30e6b699c262",
       "value": "<h5>Backend</h5>"
      }
     },
     "5e72ac505601458fa6661ea250e24f3c": {
      "model_module": "@jupyter-widgets/base",
      "model_module_version": "1.2.0",
      "model_name": "LayoutModel",
      "state": {
       "width": "95px"
      }
     },
     "6ce2179eadc448db905ed18bb352fc33": {
      "model_module": "@jupyter-widgets/controls",
      "model_module_version": "1.5.0",
      "model_name": "GridBoxModel",
      "state": {
       "children": [
        "IPY_MODEL_172272f1613e4be89d7ef3cfd0c42752"
       ],
       "layout": "IPY_MODEL_498c379c37214440a2512eb4202b36e2"
      }
     },
     "7994f5997ca047d884aa9269b6a189de": {
      "model_module": "@jupyter-widgets/base",
      "model_module_version": "1.2.0",
      "model_name": "LayoutModel",
      "state": {
       "width": "190px"
      }
     },
     "7c998a60abe942fbab6cf6a6701e8c1c": {
      "model_module": "@jupyter-widgets/base",
      "model_module_version": "1.2.0",
      "model_name": "LayoutModel",
      "state": {
       "margin": "0px 0px 0px 37px",
       "width": "600px"
      }
     },
     "7f3ed77ec23e4209bd96f14e1f459d42": {
      "model_module": "@jupyter-widgets/controls",
      "model_module_version": "1.5.0",
      "model_name": "DescriptionStyleModel",
      "state": {
       "description_width": ""
      }
     },
     "80cfc8260de8474294fedb75e7e9eca7": {
      "model_module": "@jupyter-widgets/controls",
      "model_module_version": "1.5.0",
      "model_name": "DescriptionStyleModel",
      "state": {
       "description_width": ""
      }
     },
     "971164fafe604154884076486adea175": {
      "model_module": "@jupyter-widgets/controls",
      "model_module_version": "1.5.0",
      "model_name": "HTMLModel",
      "state": {
       "layout": "IPY_MODEL_27d9560c382f4b88944b2cc0c146fc53",
       "style": "IPY_MODEL_140d4c47f65749a4a7f945f857248aa2",
       "value": "<h5>Message</h5>"
      }
     },
     "a9c4de38bb1549348b7908698e913d62": {
      "model_module": "@jupyter-widgets/base",
      "model_module_version": "1.2.0",
      "model_name": "LayoutModel",
      "state": {
       "margin": "0px 0px 10px 0px"
      }
     },
     "c15a778c9e064390810d30e6b699c262": {
      "model_module": "@jupyter-widgets/controls",
      "model_module_version": "1.5.0",
      "model_name": "DescriptionStyleModel",
      "state": {
       "description_width": ""
      }
     },
     "c7a3af1f3d5a46b78624758cc738285f": {
      "model_module": "@jupyter-widgets/controls",
      "model_module_version": "1.5.0",
      "model_name": "HTMLModel",
      "state": {
       "layout": "IPY_MODEL_a9c4de38bb1549348b7908698e913d62",
       "style": "IPY_MODEL_2ba6bd571bd448118e94b712bfa37931",
       "value": "<p style='font-family: IBM Plex Sans, Arial, Helvetica, sans-serif; font-size: 20px; font-weight: medium;'>Circuit Properties</p>"
      }
     },
     "c8a25157834d4094b0111f945868397d": {
      "model_module": "@jupyter-widgets/controls",
      "model_module_version": "1.5.0",
      "model_name": "HBoxModel",
      "state": {
       "children": [
        "IPY_MODEL_127af95ac637492cac4923160a5cdb7c",
        "IPY_MODEL_532decc398d44426a8304acba7409061",
        "IPY_MODEL_e5b3afc4bea24747bd9f4bf749d98230",
        "IPY_MODEL_3eb3e2f698ff484782631524685afe51",
        "IPY_MODEL_971164fafe604154884076486adea175"
       ],
       "layout": "IPY_MODEL_7c998a60abe942fbab6cf6a6701e8c1c"
      }
     },
     "df001de64d7c4266b322db85e51e1268": {
      "model_module": "@jupyter-widgets/base",
      "model_module_version": "1.2.0",
      "model_name": "LayoutModel",
      "state": {
       "width": "145px"
      }
     },
     "e5b3afc4bea24747bd9f4bf749d98230": {
      "model_module": "@jupyter-widgets/controls",
      "model_module_version": "1.5.0",
      "model_name": "HTMLModel",
      "state": {
       "layout": "IPY_MODEL_5e72ac505601458fa6661ea250e24f3c",
       "style": "IPY_MODEL_7f3ed77ec23e4209bd96f14e1f459d42",
       "value": "<h5>Status</h5>"
      }
     }
    },
    "version_major": 2,
    "version_minor": 0
   }
  }
 },
 "nbformat": 4,
 "nbformat_minor": 5
}
